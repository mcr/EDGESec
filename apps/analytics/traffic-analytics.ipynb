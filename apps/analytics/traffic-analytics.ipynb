{
 "cells": [
  {
   "cell_type": "code",
   "execution_count": 1,
   "id": "apart-bridal",
   "metadata": {},
   "outputs": [],
   "source": [
    "import sqlite3\n",
    "import ipycytoscape\n",
    "import networkx as nx\n",
    "from IPython.core.display import display, HTML"
   ]
  },
  {
   "cell_type": "code",
   "execution_count": 2,
   "id": "recognized-investing",
   "metadata": {},
   "outputs": [],
   "source": [
    "conn = sqlite3.connect(\"57149d10-831b-4c71-8f51-72497c4e1a50.sqlite\")"
   ]
  },
  {
   "cell_type": "code",
   "execution_count": 3,
   "id": "variable-removal",
   "metadata": {},
   "outputs": [
    {
     "name": "stdout",
     "output_type": "stream",
     "text": [
      "Opened database successfully\n"
     ]
    }
   ],
   "source": [
    "print (\"Opened database successfully\")\n"
   ]
  },
  {
   "cell_type": "code",
   "execution_count": 4,
   "id": "scientific-deficit",
   "metadata": {},
   "outputs": [],
   "source": [
    "mac_dict = {}\n",
    "cursor_dst = conn.execute(\"SELECT DISTINCT ether_dhost from eth\")\n",
    "cursor_src = conn.execute(\"SELECT DISTINCT ether_shost from eth\")\n",
    "for row in cursor_dst:\n",
    "    mac_dict[row[0]] = 1\n",
    "for row in cursor_src:\n",
    "    mac_dict[row[0]] = 1\n",
    "    \n",
    "macs = list(mac_dict.keys())\n",
    "mac_nodes = []\n",
    "for mac in macs:\n",
    "    mac_nodes.append({\"data\": {\"id\": mac, \"name\": mac}})\n",
    "cursor_edges = conn.execute(\"SELECT DISTINCT ether_shost, ether_dhost from eth\")\n",
    "mac_edges = []\n",
    "for edge in cursor_edges:\n",
    "    mac_edges.append({\"data\": {\"source\": edge[0], \"target\": edge[1]}})\n",
    "data_macs = {\"nodes\": mac_nodes, \"edges\": mac_edges}"
   ]
  },
  {
   "cell_type": "code",
   "execution_count": 5,
   "id": "colonial-accommodation",
   "metadata": {},
   "outputs": [
    {
     "data": {
      "application/vnd.jupyter.widget-view+json": {
       "model_id": "cecd40c80dd94721b56673f8a75d1404",
       "version_major": 2,
       "version_minor": 0
      },
      "text/plain": [
       "CytoscapeWidget(cytoscape_layout={'name': 'cola'}, cytoscape_style=[{'selector': 'node', 'css': {'content': 'd…"
      ]
     },
     "metadata": {},
     "output_type": "display_data"
    }
   ],
   "source": [
    "cytoscapeobj = ipycytoscape.CytoscapeWidget()\n",
    "cytoscapeobj.graph.add_graph_from_json(data_macs)\n",
    "cytoscapeobj.set_style([{\n",
    "                        'selector': 'node',\n",
    "                        'css': {\n",
    "                            'content': 'data(name)',\n",
    "                            'text-valign': 'center',\n",
    "                            'color': 'white',\n",
    "                            'text-outline-width': 1,\n",
    "                            'text-outline-color': 'green',\n",
    "                            'background-color': 'green'\n",
    "                        }\n",
    "                        },\n",
    "                        {\n",
    "                        'selector': 'edge',\n",
    "                        'css': {\n",
    "                            'line-color': 'black',\n",
    "                        }}\n",
    "])\n",
    "cytoscapeobj"
   ]
  },
  {
   "cell_type": "code",
   "execution_count": 6,
   "id": "pursuant-gateway",
   "metadata": {},
   "outputs": [],
   "source": [
    "ip_dict = {}\n",
    "cursor_dst = conn.execute(\"SELECT DISTINCT ip_dst from ip4\")\n",
    "cursor_src = conn.execute(\"SELECT DISTINCT ip_src from ip4\")\n",
    "for row in cursor_dst:\n",
    "    ip_dict[row[0]] = 1\n",
    "for row in cursor_src:\n",
    "    ip_dict[row[0]] = 1\n",
    "    \n",
    "ips = list(ip_dict.keys())\n",
    "\n",
    "ip_nodes = []\n",
    "for ip in ips:\n",
    "    ip_nodes.append({\"data\": {\"id\": ip, \"name\": ip}})\n",
    "cursor_edges = conn.execute(\"SELECT DISTINCT ip_src, ip_dst from ip4\")\n",
    "ip_edges = []\n",
    "for edge in cursor_edges:\n",
    "    ip_edges.append({\"data\": {\"source\": edge[0], \"target\": edge[1]}})\n",
    "data_ips = {\"nodes\": ip_nodes, \"edges\": ip_edges}"
   ]
  },
  {
   "cell_type": "code",
   "execution_count": 7,
   "id": "excessive-disclosure",
   "metadata": {
    "tags": []
   },
   "outputs": [
    {
     "data": {
      "application/vnd.jupyter.widget-view+json": {
       "model_id": "78b39346395843b288298c1bf33c8a11",
       "version_major": 2,
       "version_minor": 0
      },
      "text/plain": [
       "CytoscapeWidget(cytoscape_layout={'name': 'cola'}, cytoscape_style=[{'selector': 'node', 'css': {'content': 'd…"
      ]
     },
     "metadata": {},
     "output_type": "display_data"
    }
   ],
   "source": [
    "cytoscapeobj = ipycytoscape.CytoscapeWidget()\n",
    "cytoscapeobj.graph.add_graph_from_json(data_ips)\n",
    "cytoscapeobj.set_style([{\n",
    "                        'selector': 'node',\n",
    "                        'css': {\n",
    "                            'content': 'data(name)',\n",
    "                            'text-valign': 'center',\n",
    "                            'color': 'white',\n",
    "                            'text-outline-width': 1,\n",
    "                            'text-outline-color': 'green',\n",
    "                            'background-color': 'green'\n",
    "                        }\n",
    "                        },\n",
    "                        {\n",
    "                        'selector': 'edge',\n",
    "                        'css': {\n",
    "                            'line-color': 'black',\n",
    "                        }}\n",
    "])\n",
    "cytoscapeobj"
   ]
  },
  {
   "cell_type": "code",
   "execution_count": 8,
   "id": "written-conservative",
   "metadata": {},
   "outputs": [],
   "source": [
    "eth_dict = {}\n",
    "cursor_eth = conn.execute(\"SELECT DISTINCT hash, ether_shost, ether_dhost from eth\")\n",
    "for row in cursor_eth:\n",
    "    eth_dict[row[0]] = [row[1], row[2]]\n",
    "    \n",
    "dns_dict = {}\n",
    "cursor_dns = conn.execute(\"SELECT DISTINCT ethh_hash, qname from dns\")\n",
    "for row in cursor_dns:\n",
    "    dns_dict[row[0]] = row[1]\n",
    "\n",
    "port_dict = {}\n",
    "cursor_tcp = conn.execute(\"SELECT DISTINCT ethh_hash, source, dest from tcp\")\n",
    "for row in cursor_tcp:\n",
    "    port_set = set()\n",
    "    if row[0] in port_dict:\n",
    "        port_set = port_dict[row[0]]\n",
    "    \n",
    "    if (row[1] < 10000):\n",
    "        port_set.add(row[1])\n",
    "    if (row[2] < 10000):\n",
    "        port_set.add(row[2])\n",
    "    port_dict[row[0]] = port_set\n",
    "\n",
    "cursor_udp = conn.execute(\"SELECT DISTINCT ethh_hash, source, dest from udp\")\n",
    "for row in cursor_udp:\n",
    "    port_set = set()\n",
    "    if row[0] in port_dict:\n",
    "        port_set = port_dict[row[0]]\n",
    "    \n",
    "    if (row[1] < 10000):\n",
    "        port_set.add(row[1])\n",
    "    if (row[2] < 10000):\n",
    "        port_set.add(row[2])\n",
    "    \n",
    "    port_dict[row[0]] = port_set"
   ]
  },
  {
   "cell_type": "code",
   "execution_count": 14,
   "id": "continuous-sullivan",
   "metadata": {},
   "outputs": [],
   "source": [
    "ip4_dict = {}\n",
    "ip4_port_dict = {}\n",
    "cursor_ip4 = conn.execute(\"SELECT DISTINCT ethh_hash, ip_src, ip_dst from ip4\")\n",
    "for row in cursor_ip4:\n",
    "    if row[0] in port_dict:\n",
    "        ip4_port_dict[row[0]] = [row[1], row[2], list(port_dict[row[0]])]\n",
    "\n",
    "    if row[0] in dns_dict and (\"10.0.0.\" in row[1] or \"10.0.0.\" in row[2]) and row[0] in eth_dict and not (\"10.0.0.1\" in row[1]):\n",
    "        mac_src = eth_dict[row[0]][0]\n",
    "        mac_dst = eth_dict[row[0]][1]\n",
    "        if \"10.0.0.\" in row[1]:\n",
    "            ip4_dict[row[1]+dns_dict[row[0]]] = [mac_src, mac_dst, row[1], dns_dict[row[0]]]\n",
    "        elif \"10.0.0.\" in row[2]:\n",
    "            ip4_dict[row[2]+dns_dict[row[0]]] = [mac_src, mac_dst, row[2], dns_dict[row[0]]]\n",
    "address_nodes = []\n",
    "for address in ip4_dict.keys():\n",
    "    mac_addr = ip4_dict[address][0]+\"/\"+ip4_dict[address][1]\n",
    "    address_nodes.append({\"data\": {\"id\": mac_addr, \"name\": mac_addr}})\n",
    "    address_nodes.append({\"data\": {\"id\": ip4_dict[address][2], \"name\": ip4_dict[address][2]}})\n",
    "    address_nodes.append({\"data\": {\"id\": ip4_dict[address][3], \"name\": ip4_dict[address][3]}})\n",
    "    \n",
    "address_edges = []\n",
    "for address in ip4_dict.keys():\n",
    "    mac_addr = ip4_dict[address][0]+\"/\"+ip4_dict[address][1]\n",
    "    address_edges.append({\"data\": {\"source\": mac_addr, \"target\": ip4_dict[address][2]}})\n",
    "    address_edges.append({\"data\": {\"source\": ip4_dict[address][2], \"target\": ip4_dict[address][3]}})\n",
    "\n",
    "address_data = {\"nodes\": address_nodes, \"edges\": address_edges}\n",
    "\n",
    "ip4_port_nodes = []\n",
    "for hs in ip4_port_dict.keys():\n",
    "    if (len(ip4_port_dict[hs][2]) > 0):\n",
    "        ip4_port_nodes.append({\"data\": {\"id\": ip4_port_dict[hs][0], \"name\": ip4_port_dict[hs][0]}})\n",
    "        ip4_port_nodes.append({\"data\": {\"id\": ip4_port_dict[hs][1], \"name\": ip4_port_dict[hs][1]}})\n",
    "        for port in ip4_port_dict[hs][2]:\n",
    "            ip4_port_nodes.append({\"data\": {\"id\": port, \"name\": port}})\n",
    "\n",
    "ip4_port_edges = []\n",
    "for hs in ip4_port_dict.keys():\n",
    "    for port in ip4_port_dict[hs][2]:\n",
    "        ip4_port_edges.append({\"data\": {\"source\": ip4_port_dict[hs][0], \"target\": port}})\n",
    "        ip4_port_edges.append({\"data\": {\"source\": ip4_port_dict[hs][1], \"target\": port}})\n",
    "\n",
    "ip4_port_data = {\"nodes\": ip4_port_nodes, \"edges\": ip4_port_edges}"
   ]
  },
  {
   "cell_type": "code",
   "execution_count": 10,
   "id": "eight-costume",
   "metadata": {},
   "outputs": [
    {
     "data": {
      "application/vnd.jupyter.widget-view+json": {
       "model_id": "08ca617431b94d02bfe86b7e8c52f35a",
       "version_major": 2,
       "version_minor": 0
      },
      "text/plain": [
       "CytoscapeWidget(cytoscape_layout={'name': 'dagre', 'nodeSpacing': 10, 'edgeLengthVal': 10}, cytoscape_style=[{…"
      ]
     },
     "metadata": {},
     "output_type": "display_data"
    }
   ],
   "source": [
    "cytoscapeobj = ipycytoscape.CytoscapeWidget()\n",
    "cytoscapeobj.graph.add_graph_from_json(address_data, directed=True)\n",
    "cytoscapeobj.set_layout(name='dagre', nodeSpacing=10, edgeLengthVal=10)\n",
    "cytoscapeobj.set_style([{\n",
    "                        'selector': 'node',\n",
    "                        'css': {\n",
    "                            'background-color': '#11479e',\n",
    "                            'content': 'data(name)',\n",
    "                            }\n",
    "                        },\n",
    "                        {\n",
    "                        'selector': 'node:parent',\n",
    "                        'css': {\n",
    "                            'background-opacity': 0.333\n",
    "                            }\n",
    "                        },\n",
    "                        {\n",
    "                            'selector': 'edge',\n",
    "                            'style': {\n",
    "                                'width': 4,\n",
    "                                'line-color': '#9dbaea',\n",
    "                                'target-arrow-shape': 'triangle',\n",
    "                                'target-arrow-color': '#9dbaea',\n",
    "                                'curve-style': 'bezier'\n",
    "                            }\n",
    "                        }])\n",
    "cytoscapeobj"
   ]
  },
  {
   "cell_type": "code",
   "execution_count": 15,
   "id": "assigned-master",
   "metadata": {},
   "outputs": [
    {
     "data": {
      "application/vnd.jupyter.widget-view+json": {
       "model_id": "5b1e30f622a340f6a442f8f2d9c99d0c",
       "version_major": 2,
       "version_minor": 0
      },
      "text/plain": [
       "CytoscapeWidget(cytoscape_layout={'name': 'dagre', 'nodeSpacing': 10, 'edgeLengthVal': 10}, cytoscape_style=[{…"
      ]
     },
     "metadata": {},
     "output_type": "display_data"
    }
   ],
   "source": [
    "cytoscapeobj = ipycytoscape.CytoscapeWidget()\n",
    "cytoscapeobj.graph.add_graph_from_json(ip4_port_data, directed=True)\n",
    "cytoscapeobj.set_layout(name='dagre', nodeSpacing=10, edgeLengthVal=10)\n",
    "cytoscapeobj.set_style([{\n",
    "                        'selector': 'node',\n",
    "                        'css': {\n",
    "                            'background-color': '#11479e',\n",
    "                            'content': 'data(name)',\n",
    "                            }\n",
    "                        },\n",
    "                        {\n",
    "                        'selector': 'node:parent',\n",
    "                        'css': {\n",
    "                            'background-opacity': 0.333\n",
    "                            }\n",
    "                        },\n",
    "                        {\n",
    "                            'selector': 'edge',\n",
    "                            'style': {\n",
    "                                'width': 4,\n",
    "                                'line-color': '#9dbaea',\n",
    "                                'target-arrow-shape': 'triangle',\n",
    "                                'target-arrow-color': '#9dbaea',\n",
    "                                'curve-style': 'bezier'\n",
    "                            }\n",
    "                        }])\n",
    "cytoscapeobj"
   ]
  },
  {
   "cell_type": "code",
   "execution_count": 18,
   "id": "dental-strategy",
   "metadata": {},
   "outputs": [
    {
     "name": "stdout",
     "output_type": "stream",
     "text": [
      "{'nodes': [{'data': {'id': '10.0.0.191', 'name': '10.0.0.191'}}, {'data': {'id': 67, 'name': 67}}, {'data': {'id': 68, 'name': 68}}, {'data': {'id': '10.0.0.191', 'name': '10.0.0.191'}}, {'data': {'id': 3591, 'name': 3591}}, {'data': {'id': 3602, 'name': 3602}}, {'data': {'id': 8213, 'name': 8213}}, {'data': {'id': 8728, 'name': 8728}}, {'data': {'id': 8734, 'name': 8734}}, {'data': {'id': 5172, 'name': 5172}}, {'data': {'id': 53, 'name': 53}}, {'data': {'id': 67, 'name': 67}}, {'data': {'id': 68, 'name': 68}}, {'data': {'id': 7244, 'name': 7244}}, {'data': {'id': 80, 'name': 80}}, {'data': {'id': 2643, 'name': 2643}}, {'data': {'id': 1624, 'name': 1624}}, {'data': {'id': 8283, 'name': 8283}}, {'data': {'id': 1628, 'name': 1628}}, {'data': {'id': 5222, 'name': 5222}}, {'data': {'id': 5228, 'name': 5228}}, {'data': {'id': 6253, 'name': 6253}}, {'data': {'id': 4720, 'name': 4720}}, {'data': {'id': 4213, 'name': 4213}}, {'data': {'id': 8312, 'name': 8312}}, {'data': {'id': 6265, 'name': 6265}}, {'data': {'id': 5242, 'name': 5242}}, {'data': {'id': 123, 'name': 123}}, {'data': {'id': 1147, 'name': 1147}}, {'data': {'id': 5757, 'name': 5757}}, {'data': {'id': 3199, 'name': 3199}}, {'data': {'id': 8839, 'name': 8839}}, {'data': {'id': 7303, 'name': 7303}}, {'data': {'id': 6800, 'name': 6800}}, {'data': {'id': 3218, 'name': 3218}}, {'data': {'id': 4244, 'name': 4244}}, {'data': {'id': 6306, 'name': 6306}}, {'data': {'id': 7847, 'name': 7847}}, {'data': {'id': 4270, 'name': 4270}}, {'data': {'id': 8883, 'name': 8883}}, {'data': {'id': 3778, 'name': 3778}}, {'data': {'id': 7874, 'name': 7874}}, {'data': {'id': 9413, 'name': 9413}}, {'data': {'id': 5843, 'name': 5843}}, {'data': {'id': 1752, 'name': 1752}}, {'data': {'id': 1758, 'name': 1758}}, {'data': {'id': 1250, 'name': 1250}}, {'data': {'id': 8950, 'name': 8950}}, {'data': {'id': 2807, 'name': 2807}}, {'data': {'id': 7417, 'name': 7417}}, {'data': {'id': 5370, 'name': 5370}}, {'data': {'id': 3838, 'name': 3838}}, {'data': {'id': 7943, 'name': 7943}}, {'data': {'id': 9502, 'name': 9502}}, {'data': {'id': 3879, 'name': 3879}}, {'data': {'id': 1836, 'name': 1836}}, {'data': {'id': 9008, 'name': 9008}}, {'data': {'id': 3379, 'name': 3379}}, {'data': {'id': 4915, 'name': 4915}}, {'data': {'id': 2869, 'name': 2869}}, {'data': {'id': 3387, 'name': 3387}}, {'data': {'id': 8508, 'name': 8508}}, {'data': {'id': 6460, 'name': 6460}}, {'data': {'id': 3403, 'name': 3403}}, {'data': {'id': 6475, 'name': 6475}}, {'data': {'id': 6479, 'name': 6479}}, {'data': {'id': 2904, 'name': 2904}}, {'data': {'id': 9569, 'name': 9569}}, {'data': {'id': 3944, 'name': 3944}}, {'data': {'id': 8554, 'name': 8554}}, {'data': {'id': 1388, 'name': 1388}}, {'data': {'id': 9584, 'name': 9584}}, {'data': {'id': 1393, 'name': 1393}}, {'data': {'id': 6002, 'name': 6002}}, {'data': {'id': 4981, 'name': 4981}}, {'data': {'id': 4982, 'name': 4982}}, {'data': {'id': 6008, 'name': 6008}}, {'data': {'id': 6529, 'name': 6529}}, {'data': {'id': 1922, 'name': 1922}}, {'data': {'id': 1413, 'name': 1413}}, {'data': {'id': 2951, 'name': 2951}}, {'data': {'id': 8075, 'name': 8075}}, {'data': {'id': 9100, 'name': 9100}}, {'data': {'id': 1422, 'name': 1422}}, {'data': {'id': 5518, 'name': 5518}}, {'data': {'id': 3478, 'name': 3478}}, {'data': {'id': 3479, 'name': 3479}}, {'data': {'id': 6553, 'name': 6553}}, {'data': {'id': 7070, 'name': 7070}}, {'data': {'id': 1443, 'name': 1443}}, {'data': {'id': 9125, 'name': 9125}}, {'data': {'id': 3496, 'name': 3496}}, {'data': {'id': 2474, 'name': 2474}}, {'data': {'id': 1963, 'name': 1963}}, {'data': {'id': 6064, 'name': 6064}}, {'data': {'id': 9655, 'name': 9655}}, {'data': {'id': 6585, 'name': 6585}}, {'data': {'id': 443, 'name': 443}}, {'data': {'id': 1468, 'name': 1468}}, {'data': {'id': 3528, 'name': 3528}}, {'data': {'id': 4554, 'name': 4554}}, {'data': {'id': 6091, 'name': 6091}}, {'data': {'id': 6099, 'name': 6099}}, {'data': {'id': 8153, 'name': 8153}}, {'data': {'id': 7647, 'name': 7647}}, {'data': {'id': 1507, 'name': 1507}}, {'data': {'id': 8167, 'name': 8167}}, {'data': {'id': 1516, 'name': 1516}}, {'data': {'id': 8703, 'name': 8703}}, {'data': {'id': '10.0.0.191', 'name': '10.0.0.191'}}, {'data': {'id': 3591, 'name': 3591}}, {'data': {'id': 6155, 'name': 6155}}, {'data': {'id': 8213, 'name': 8213}}, {'data': {'id': 8728, 'name': 8728}}, {'data': {'id': 8734, 'name': 8734}}, {'data': {'id': 5172, 'name': 5172}}, {'data': {'id': 53, 'name': 53}}, {'data': {'id': 80, 'name': 80}}, {'data': {'id': 2643, 'name': 2643}}, {'data': {'id': 1624, 'name': 1624}}, {'data': {'id': 8283, 'name': 8283}}, {'data': {'id': 1628, 'name': 1628}}, {'data': {'id': 4701, 'name': 4701}}, {'data': {'id': 5215, 'name': 5215}}, {'data': {'id': 2659, 'name': 2659}}, {'data': {'id': 5222, 'name': 5222}}, {'data': {'id': 5228, 'name': 5228}}, {'data': {'id': 4720, 'name': 4720}}, {'data': {'id': 4213, 'name': 4213}}, {'data': {'id': 8312, 'name': 8312}}, {'data': {'id': 6265, 'name': 6265}}, {'data': {'id': 5242, 'name': 5242}}, {'data': {'id': 123, 'name': 123}}, {'data': {'id': 1147, 'name': 1147}}, {'data': {'id': 5757, 'name': 5757}}, {'data': {'id': 8839, 'name': 8839}}, {'data': {'id': 8335, 'name': 8335}}, {'data': {'id': 6800, 'name': 6800}}, {'data': {'id': 3218, 'name': 3218}}, {'data': {'id': 4244, 'name': 4244}}, {'data': {'id': 2718, 'name': 2718}}, {'data': {'id': 6306, 'name': 6306}}, {'data': {'id': 7847, 'name': 7847}}, {'data': {'id': 4270, 'name': 4270}}, {'data': {'id': 8883, 'name': 8883}}, {'data': {'id': 3778, 'name': 3778}}, {'data': {'id': 7874, 'name': 7874}}, {'data': {'id': 9413, 'name': 9413}}, {'data': {'id': 6343, 'name': 6343}}, {'data': {'id': 5843, 'name': 5843}}, {'data': {'id': 1752, 'name': 1752}}, {'data': {'id': 4316, 'name': 4316}}, {'data': {'id': 1758, 'name': 1758}}, {'data': {'id': 8927, 'name': 8927}}, {'data': {'id': 1250, 'name': 1250}}, {'data': {'id': 8950, 'name': 8950}}, {'data': {'id': 2807, 'name': 2807}}, {'data': {'id': 7417, 'name': 7417}}, {'data': {'id': 5370, 'name': 5370}}, {'data': {'id': 3838, 'name': 3838}}, {'data': {'id': 9470, 'name': 9470}}, {'data': {'id': 7943, 'name': 7943}}, {'data': {'id': 4365, 'name': 4365}}, {'data': {'id': 5917, 'name': 5917}}, {'data': {'id': 9502, 'name': 9502}}, {'data': {'id': 3879, 'name': 3879}}, {'data': {'id': 1836, 'name': 1836}}, {'data': {'id': 3884, 'name': 3884}}, {'data': {'id': 4398, 'name': 4398}}, {'data': {'id': 9008, 'name': 9008}}, {'data': {'id': 3379, 'name': 3379}}, {'data': {'id': 4915, 'name': 4915}}, {'data': {'id': 2869, 'name': 2869}}, {'data': {'id': 2359, 'name': 2359}}, {'data': {'id': 1851, 'name': 1851}}, {'data': {'id': 8508, 'name': 8508}}, {'data': {'id': 7485, 'name': 7485}}, {'data': {'id': 3387, 'name': 3387}}, {'data': {'id': 3907, 'name': 3907}}, {'data': {'id': 3403, 'name': 3403}}, {'data': {'id': 6475, 'name': 6475}}, {'data': {'id': 6479, 'name': 6479}}, {'data': {'id': 2904, 'name': 2904}}, {'data': {'id': 9569, 'name': 9569}}, {'data': {'id': 3944, 'name': 3944}}, {'data': {'id': 8554, 'name': 8554}}, {'data': {'id': 1388, 'name': 1388}}, {'data': {'id': 1393, 'name': 1393}}, {'data': {'id': 6002, 'name': 6002}}, {'data': {'id': 4981, 'name': 4981}}, {'data': {'id': 4982, 'name': 4982}}, {'data': {'id': 6008, 'name': 6008}}, {'data': {'id': 6529, 'name': 6529}}, {'data': {'id': 1922, 'name': 1922}}, {'data': {'id': 1413, 'name': 1413}}, {'data': {'id': 2951, 'name': 2951}}, {'data': {'id': 9100, 'name': 9100}}, {'data': {'id': 1422, 'name': 1422}}, {'data': {'id': 5518, 'name': 5518}}, {'data': {'id': 3478, 'name': 3478}}, {'data': {'id': 3479, 'name': 3479}}, {'data': {'id': 6553, 'name': 6553}}, {'data': {'id': 7070, 'name': 7070}}, {'data': {'id': 2976, 'name': 2976}}, {'data': {'id': 1443, 'name': 1443}}, {'data': {'id': 9125, 'name': 9125}}, {'data': {'id': 3496, 'name': 3496}}, {'data': {'id': 2474, 'name': 2474}}, {'data': {'id': 1963, 'name': 1963}}, {'data': {'id': 6064, 'name': 6064}}, {'data': {'id': 6585, 'name': 6585}}, {'data': {'id': 443, 'name': 443}}, {'data': {'id': 1468, 'name': 1468}}, {'data': {'id': 3528, 'name': 3528}}, {'data': {'id': 4554, 'name': 4554}}, {'data': {'id': 6091, 'name': 6091}}, {'data': {'id': 6099, 'name': 6099}}, {'data': {'id': 8153, 'name': 8153}}, {'data': {'id': 9693, 'name': 9693}}, {'data': {'id': 7647, 'name': 7647}}, {'data': {'id': 1507, 'name': 1507}}, {'data': {'id': 8167, 'name': 8167}}, {'data': {'id': 1516, 'name': 1516}}, {'data': {'id': 8703, 'name': 8703}}, {'data': {'id': '10.0.0.191', 'name': '10.0.0.191'}}, {'data': {'id': 5353, 'name': 5353}}], 'edges': [{'data': {'source': '10.0.0.191', 'target': 67}}, {'data': {'source': '10.0.0.191', 'target': 68}}, {'data': {'source': '10.0.0.191', 'target': 3591}}, {'data': {'source': '10.0.0.191', 'target': 3602}}, {'data': {'source': '10.0.0.191', 'target': 8213}}, {'data': {'source': '10.0.0.191', 'target': 8728}}, {'data': {'source': '10.0.0.191', 'target': 8734}}, {'data': {'source': '10.0.0.191', 'target': 5172}}, {'data': {'source': '10.0.0.191', 'target': 53}}, {'data': {'source': '10.0.0.191', 'target': 67}}, {'data': {'source': '10.0.0.191', 'target': 68}}, {'data': {'source': '10.0.0.191', 'target': 7244}}, {'data': {'source': '10.0.0.191', 'target': 80}}, {'data': {'source': '10.0.0.191', 'target': 2643}}, {'data': {'source': '10.0.0.191', 'target': 1624}}, {'data': {'source': '10.0.0.191', 'target': 8283}}, {'data': {'source': '10.0.0.191', 'target': 1628}}, {'data': {'source': '10.0.0.191', 'target': 5222}}, {'data': {'source': '10.0.0.191', 'target': 5228}}, {'data': {'source': '10.0.0.191', 'target': 6253}}, {'data': {'source': '10.0.0.191', 'target': 4720}}, {'data': {'source': '10.0.0.191', 'target': 4213}}, {'data': {'source': '10.0.0.191', 'target': 8312}}, {'data': {'source': '10.0.0.191', 'target': 6265}}, {'data': {'source': '10.0.0.191', 'target': 5242}}, {'data': {'source': '10.0.0.191', 'target': 123}}, {'data': {'source': '10.0.0.191', 'target': 1147}}, {'data': {'source': '10.0.0.191', 'target': 5757}}, {'data': {'source': '10.0.0.191', 'target': 3199}}, {'data': {'source': '10.0.0.191', 'target': 8839}}, {'data': {'source': '10.0.0.191', 'target': 7303}}, {'data': {'source': '10.0.0.191', 'target': 6800}}, {'data': {'source': '10.0.0.191', 'target': 3218}}, {'data': {'source': '10.0.0.191', 'target': 4244}}, {'data': {'source': '10.0.0.191', 'target': 6306}}, {'data': {'source': '10.0.0.191', 'target': 7847}}, {'data': {'source': '10.0.0.191', 'target': 4270}}, {'data': {'source': '10.0.0.191', 'target': 8883}}, {'data': {'source': '10.0.0.191', 'target': 3778}}, {'data': {'source': '10.0.0.191', 'target': 7874}}, {'data': {'source': '10.0.0.191', 'target': 9413}}, {'data': {'source': '10.0.0.191', 'target': 5843}}, {'data': {'source': '10.0.0.191', 'target': 1752}}, {'data': {'source': '10.0.0.191', 'target': 1758}}, {'data': {'source': '10.0.0.191', 'target': 1250}}, {'data': {'source': '10.0.0.191', 'target': 8950}}, {'data': {'source': '10.0.0.191', 'target': 2807}}, {'data': {'source': '10.0.0.191', 'target': 7417}}, {'data': {'source': '10.0.0.191', 'target': 5370}}, {'data': {'source': '10.0.0.191', 'target': 3838}}, {'data': {'source': '10.0.0.191', 'target': 7943}}, {'data': {'source': '10.0.0.191', 'target': 9502}}, {'data': {'source': '10.0.0.191', 'target': 3879}}, {'data': {'source': '10.0.0.191', 'target': 1836}}, {'data': {'source': '10.0.0.191', 'target': 9008}}, {'data': {'source': '10.0.0.191', 'target': 3379}}, {'data': {'source': '10.0.0.191', 'target': 4915}}, {'data': {'source': '10.0.0.191', 'target': 2869}}, {'data': {'source': '10.0.0.191', 'target': 3387}}, {'data': {'source': '10.0.0.191', 'target': 8508}}, {'data': {'source': '10.0.0.191', 'target': 6460}}, {'data': {'source': '10.0.0.191', 'target': 3403}}, {'data': {'source': '10.0.0.191', 'target': 6475}}, {'data': {'source': '10.0.0.191', 'target': 6479}}, {'data': {'source': '10.0.0.191', 'target': 2904}}, {'data': {'source': '10.0.0.191', 'target': 9569}}, {'data': {'source': '10.0.0.191', 'target': 3944}}, {'data': {'source': '10.0.0.191', 'target': 8554}}, {'data': {'source': '10.0.0.191', 'target': 1388}}, {'data': {'source': '10.0.0.191', 'target': 9584}}, {'data': {'source': '10.0.0.191', 'target': 1393}}, {'data': {'source': '10.0.0.191', 'target': 6002}}, {'data': {'source': '10.0.0.191', 'target': 4981}}, {'data': {'source': '10.0.0.191', 'target': 4982}}, {'data': {'source': '10.0.0.191', 'target': 6008}}, {'data': {'source': '10.0.0.191', 'target': 6529}}, {'data': {'source': '10.0.0.191', 'target': 1922}}, {'data': {'source': '10.0.0.191', 'target': 1413}}, {'data': {'source': '10.0.0.191', 'target': 2951}}, {'data': {'source': '10.0.0.191', 'target': 8075}}, {'data': {'source': '10.0.0.191', 'target': 9100}}, {'data': {'source': '10.0.0.191', 'target': 1422}}, {'data': {'source': '10.0.0.191', 'target': 5518}}, {'data': {'source': '10.0.0.191', 'target': 3478}}, {'data': {'source': '10.0.0.191', 'target': 3479}}, {'data': {'source': '10.0.0.191', 'target': 6553}}, {'data': {'source': '10.0.0.191', 'target': 7070}}, {'data': {'source': '10.0.0.191', 'target': 1443}}, {'data': {'source': '10.0.0.191', 'target': 9125}}, {'data': {'source': '10.0.0.191', 'target': 3496}}, {'data': {'source': '10.0.0.191', 'target': 2474}}, {'data': {'source': '10.0.0.191', 'target': 1963}}, {'data': {'source': '10.0.0.191', 'target': 6064}}, {'data': {'source': '10.0.0.191', 'target': 9655}}, {'data': {'source': '10.0.0.191', 'target': 6585}}, {'data': {'source': '10.0.0.191', 'target': 443}}, {'data': {'source': '10.0.0.191', 'target': 1468}}, {'data': {'source': '10.0.0.191', 'target': 3528}}, {'data': {'source': '10.0.0.191', 'target': 4554}}, {'data': {'source': '10.0.0.191', 'target': 6091}}, {'data': {'source': '10.0.0.191', 'target': 6099}}, {'data': {'source': '10.0.0.191', 'target': 8153}}, {'data': {'source': '10.0.0.191', 'target': 7647}}, {'data': {'source': '10.0.0.191', 'target': 1507}}, {'data': {'source': '10.0.0.191', 'target': 8167}}, {'data': {'source': '10.0.0.191', 'target': 1516}}, {'data': {'source': '10.0.0.191', 'target': 8703}}, {'data': {'source': '10.0.0.191', 'target': 3591}}, {'data': {'source': '10.0.0.191', 'target': 6155}}, {'data': {'source': '10.0.0.191', 'target': 8213}}, {'data': {'source': '10.0.0.191', 'target': 8728}}, {'data': {'source': '10.0.0.191', 'target': 8734}}, {'data': {'source': '10.0.0.191', 'target': 5172}}, {'data': {'source': '10.0.0.191', 'target': 53}}, {'data': {'source': '10.0.0.191', 'target': 80}}, {'data': {'source': '10.0.0.191', 'target': 2643}}, {'data': {'source': '10.0.0.191', 'target': 1624}}, {'data': {'source': '10.0.0.191', 'target': 8283}}, {'data': {'source': '10.0.0.191', 'target': 1628}}, {'data': {'source': '10.0.0.191', 'target': 4701}}, {'data': {'source': '10.0.0.191', 'target': 5215}}, {'data': {'source': '10.0.0.191', 'target': 2659}}, {'data': {'source': '10.0.0.191', 'target': 5222}}, {'data': {'source': '10.0.0.191', 'target': 5228}}, {'data': {'source': '10.0.0.191', 'target': 4720}}, {'data': {'source': '10.0.0.191', 'target': 4213}}, {'data': {'source': '10.0.0.191', 'target': 8312}}, {'data': {'source': '10.0.0.191', 'target': 6265}}, {'data': {'source': '10.0.0.191', 'target': 5242}}, {'data': {'source': '10.0.0.191', 'target': 123}}, {'data': {'source': '10.0.0.191', 'target': 1147}}, {'data': {'source': '10.0.0.191', 'target': 5757}}, {'data': {'source': '10.0.0.191', 'target': 8839}}, {'data': {'source': '10.0.0.191', 'target': 8335}}, {'data': {'source': '10.0.0.191', 'target': 6800}}, {'data': {'source': '10.0.0.191', 'target': 3218}}, {'data': {'source': '10.0.0.191', 'target': 4244}}, {'data': {'source': '10.0.0.191', 'target': 2718}}, {'data': {'source': '10.0.0.191', 'target': 6306}}, {'data': {'source': '10.0.0.191', 'target': 7847}}, {'data': {'source': '10.0.0.191', 'target': 4270}}, {'data': {'source': '10.0.0.191', 'target': 8883}}, {'data': {'source': '10.0.0.191', 'target': 3778}}, {'data': {'source': '10.0.0.191', 'target': 7874}}, {'data': {'source': '10.0.0.191', 'target': 9413}}, {'data': {'source': '10.0.0.191', 'target': 6343}}, {'data': {'source': '10.0.0.191', 'target': 5843}}, {'data': {'source': '10.0.0.191', 'target': 1752}}, {'data': {'source': '10.0.0.191', 'target': 4316}}, {'data': {'source': '10.0.0.191', 'target': 1758}}, {'data': {'source': '10.0.0.191', 'target': 8927}}, {'data': {'source': '10.0.0.191', 'target': 1250}}, {'data': {'source': '10.0.0.191', 'target': 8950}}, {'data': {'source': '10.0.0.191', 'target': 2807}}, {'data': {'source': '10.0.0.191', 'target': 7417}}, {'data': {'source': '10.0.0.191', 'target': 5370}}, {'data': {'source': '10.0.0.191', 'target': 3838}}, {'data': {'source': '10.0.0.191', 'target': 9470}}, {'data': {'source': '10.0.0.191', 'target': 7943}}, {'data': {'source': '10.0.0.191', 'target': 4365}}, {'data': {'source': '10.0.0.191', 'target': 5917}}, {'data': {'source': '10.0.0.191', 'target': 9502}}, {'data': {'source': '10.0.0.191', 'target': 3879}}, {'data': {'source': '10.0.0.191', 'target': 1836}}, {'data': {'source': '10.0.0.191', 'target': 3884}}, {'data': {'source': '10.0.0.191', 'target': 4398}}, {'data': {'source': '10.0.0.191', 'target': 9008}}, {'data': {'source': '10.0.0.191', 'target': 3379}}, {'data': {'source': '10.0.0.191', 'target': 4915}}, {'data': {'source': '10.0.0.191', 'target': 2869}}, {'data': {'source': '10.0.0.191', 'target': 2359}}, {'data': {'source': '10.0.0.191', 'target': 1851}}, {'data': {'source': '10.0.0.191', 'target': 8508}}, {'data': {'source': '10.0.0.191', 'target': 7485}}, {'data': {'source': '10.0.0.191', 'target': 3387}}, {'data': {'source': '10.0.0.191', 'target': 3907}}, {'data': {'source': '10.0.0.191', 'target': 3403}}, {'data': {'source': '10.0.0.191', 'target': 6475}}, {'data': {'source': '10.0.0.191', 'target': 6479}}, {'data': {'source': '10.0.0.191', 'target': 2904}}, {'data': {'source': '10.0.0.191', 'target': 9569}}, {'data': {'source': '10.0.0.191', 'target': 3944}}, {'data': {'source': '10.0.0.191', 'target': 8554}}, {'data': {'source': '10.0.0.191', 'target': 1388}}, {'data': {'source': '10.0.0.191', 'target': 1393}}, {'data': {'source': '10.0.0.191', 'target': 6002}}, {'data': {'source': '10.0.0.191', 'target': 4981}}, {'data': {'source': '10.0.0.191', 'target': 4982}}, {'data': {'source': '10.0.0.191', 'target': 6008}}, {'data': {'source': '10.0.0.191', 'target': 6529}}, {'data': {'source': '10.0.0.191', 'target': 1922}}, {'data': {'source': '10.0.0.191', 'target': 1413}}, {'data': {'source': '10.0.0.191', 'target': 2951}}, {'data': {'source': '10.0.0.191', 'target': 9100}}, {'data': {'source': '10.0.0.191', 'target': 1422}}, {'data': {'source': '10.0.0.191', 'target': 5518}}, {'data': {'source': '10.0.0.191', 'target': 3478}}, {'data': {'source': '10.0.0.191', 'target': 3479}}, {'data': {'source': '10.0.0.191', 'target': 6553}}, {'data': {'source': '10.0.0.191', 'target': 7070}}, {'data': {'source': '10.0.0.191', 'target': 2976}}, {'data': {'source': '10.0.0.191', 'target': 1443}}, {'data': {'source': '10.0.0.191', 'target': 9125}}, {'data': {'source': '10.0.0.191', 'target': 3496}}, {'data': {'source': '10.0.0.191', 'target': 2474}}, {'data': {'source': '10.0.0.191', 'target': 1963}}, {'data': {'source': '10.0.0.191', 'target': 6064}}, {'data': {'source': '10.0.0.191', 'target': 6585}}, {'data': {'source': '10.0.0.191', 'target': 443}}, {'data': {'source': '10.0.0.191', 'target': 1468}}, {'data': {'source': '10.0.0.191', 'target': 3528}}, {'data': {'source': '10.0.0.191', 'target': 4554}}, {'data': {'source': '10.0.0.191', 'target': 6091}}, {'data': {'source': '10.0.0.191', 'target': 6099}}, {'data': {'source': '10.0.0.191', 'target': 8153}}, {'data': {'source': '10.0.0.191', 'target': 9693}}, {'data': {'source': '10.0.0.191', 'target': 7647}}, {'data': {'source': '10.0.0.191', 'target': 1507}}, {'data': {'source': '10.0.0.191', 'target': 8167}}, {'data': {'source': '10.0.0.191', 'target': 1516}}, {'data': {'source': '10.0.0.191', 'target': 8703}}, {'data': {'source': '10.0.0.191', 'target': 5353}}]}\n"
     ]
    }
   ],
   "source": [
    "ip4_val = \"10.0.0.191\"\n",
    "ip4_port_nodes = []\n",
    "for hs in ip4_port_dict.keys():\n",
    "    if (len(ip4_port_dict[hs][2]) > 0) and (ip4_port_dict[hs][0] == ip4_val or ip4_port_dict[hs][1] == ip4_val):\n",
    "        if (ip4_port_dict[hs][0] == ip4_val):\n",
    "            ip4_port_nodes.append({\"data\": {\"id\": ip4_port_dict[hs][0], \"name\": ip4_port_dict[hs][0]}})\n",
    "        elif (ip4_port_dict[hs][1] == ip4_val):\n",
    "            ip4_port_nodes.append({\"data\": {\"id\": ip4_port_dict[hs][1], \"name\": ip4_port_dict[hs][1]}})\n",
    "        for port in ip4_port_dict[hs][2]:\n",
    "            ip4_port_nodes.append({\"data\": {\"id\": port, \"name\": port}})\n",
    "\n",
    "ip4_port_edges = []\n",
    "for hs in ip4_port_dict.keys():\n",
    "    if (len(ip4_port_dict[hs][2]) > 0) and (ip4_port_dict[hs][0] == ip4_val or ip4_port_dict[hs][1] == ip4_val):\n",
    "        if (ip4_port_dict[hs][0] == ip4_val):\n",
    "            for port in ip4_port_dict[hs][2]:\n",
    "                ip4_port_edges.append({\"data\": {\"source\": ip4_port_dict[hs][0], \"target\": port}})\n",
    "        elif (ip4_port_dict[hs][1] == ip4_val):\n",
    "            for port in ip4_port_dict[hs][2]:\n",
    "                ip4_port_edges.append({\"data\": {\"source\": ip4_port_dict[hs][1], \"target\": port}})\n",
    "ip4_port_data_filtered = {\"nodes\": ip4_port_nodes, \"edges\": ip4_port_edges}\n",
    "print(ip4_port_data_filtered)"
   ]
  },
  {
   "cell_type": "code",
   "execution_count": 19,
   "id": "honest-minutes",
   "metadata": {},
   "outputs": [
    {
     "data": {
      "application/vnd.jupyter.widget-view+json": {
       "model_id": "2939e6ed53184dfba42f58131676f0df",
       "version_major": 2,
       "version_minor": 0
      },
      "text/plain": [
       "CytoscapeWidget(cytoscape_layout={'name': 'dagre', 'nodeSpacing': 10, 'edgeLengthVal': 10}, cytoscape_style=[{…"
      ]
     },
     "metadata": {},
     "output_type": "display_data"
    }
   ],
   "source": [
    "cytoscapeobj = ipycytoscape.CytoscapeWidget()\n",
    "cytoscapeobj.graph.add_graph_from_json(ip4_port_data_filtered, directed=True)\n",
    "cytoscapeobj.set_layout(name='dagre', nodeSpacing=10, edgeLengthVal=10)\n",
    "cytoscapeobj.set_style([{\n",
    "                        'selector': 'node',\n",
    "                        'css': {\n",
    "                            'background-color': '#11479e',\n",
    "                            'content': 'data(name)',\n",
    "                            }\n",
    "                        },\n",
    "                        {\n",
    "                        'selector': 'node:parent',\n",
    "                        'css': {\n",
    "                            'background-opacity': 0.333\n",
    "                            }\n",
    "                        },\n",
    "                        {\n",
    "                            'selector': 'edge',\n",
    "                            'style': {\n",
    "                                'width': 4,\n",
    "                                'line-color': '#9dbaea',\n",
    "                                'target-arrow-shape': 'triangle',\n",
    "                                'target-arrow-color': '#9dbaea',\n",
    "                                'curve-style': 'bezier'\n",
    "                            }\n",
    "                        }])\n",
    "cytoscapeobj"
   ]
  },
  {
   "cell_type": "code",
   "execution_count": null,
   "id": "collected-manual",
   "metadata": {},
   "outputs": [],
   "source": []
  }
 ],
 "metadata": {
  "kernelspec": {
   "display_name": "Python 3",
   "language": "python",
   "name": "python3"
  },
  "language_info": {
   "codemirror_mode": {
    "name": "ipython",
    "version": 3
   },
   "file_extension": ".py",
   "mimetype": "text/x-python",
   "name": "python",
   "nbconvert_exporter": "python",
   "pygments_lexer": "ipython3",
   "version": "3.8.5"
  }
 },
 "nbformat": 4,
 "nbformat_minor": 5
}
